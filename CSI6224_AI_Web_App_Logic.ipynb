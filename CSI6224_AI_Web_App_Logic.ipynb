{
  "cells": [
    {
      "cell_type": "markdown",
      "metadata": {
        "id": "view-in-github",
        "colab_type": "text"
      },
      "source": [
        "<a href=\"https://colab.research.google.com/github/snwijesuriya/Scanner/blob/main/CSI6224_AI_Web_App_Logic.ipynb\" target=\"_parent\"><img src=\"https://colab.research.google.com/assets/colab-badge.svg\" alt=\"Open In Colab\"/></a>"
      ]
    },
    {
      "cell_type": "markdown",
      "metadata": {
        "id": "1yoh9KZwC9a5"
      },
      "source": [
        "# CSI6224 AI Web App Logic\n",
        ">**Developing an AI-driven Web Application\n",
        "using an Open-source, Pre-trained\n",
        "Natural Language Processing (NLP) Transformer.**\n",
        "\n",
        "*Sonam Chophel, Adam Curtis, John Reynolds, Rabia Waqas, Sakitha Hetti Thanthrige*"
      ]
    },
    {
      "cell_type": "markdown",
      "metadata": {
        "id": "60uOxUvil3iw"
      },
      "source": [
        "Uncomment to install required components."
      ]
    },
    {
      "cell_type": "code",
      "execution_count": null,
      "metadata": {
        "id": "BFB6PQmuvncy"
      },
      "outputs": [],
      "source": [
        "!pip install streamlit\n",
        "!pip install python-dotenv\n",
        "#!npm install localtunnel"
      ]
    },
    {
      "cell_type": "markdown",
      "metadata": {
        "id": "C5S8r1I_GDIW"
      },
      "source": [
        "## 1. Text Summarization"
      ]
    },
    {
      "cell_type": "code",
      "execution_count": null,
      "metadata": {
        "id": "pqYygVbvORg5"
      },
      "outputs": [],
      "source": [
        "import streamlit as st\n",
        "from dotenv import load_dotenv\n",
        "from transformers import pipeline\n",
        "import torch\n",
        "\n",
        "load_dotenv()\n",
        "pipe = pipeline(task=\"summarization\", model=\"Falconsai/text_summarization\",\n",
        "                      torch_dtype=torch.bfloat16)\n",
        "\n",
        "st.header(\"Summerise your text\")\n",
        "text = st.text_area(\"Paste your text here\")\n",
        "\n",
        "if st.button(\"Summarise\"):\n",
        "    with st.spinner(\"Summarising your text\"):\n",
        "        summary = pipe(text, max_length=200, min_length=50, do_sample=False)\n",
        "        st.write(summary[0]['summary_text'])"
      ]
    },
    {
      "cell_type": "code",
      "execution_count": null,
      "metadata": {
        "colab": {
          "background_save": true
        },
        "id": "Cm2dsOiADSzE",
        "outputId": "b8f93a83-c8c1-453c-976c-43dac96ca8f1"
      },
      "outputs": [
        {
          "name": "stdout",
          "output_type": "stream",
          "text": [
            "\n",
            "Collecting usage statistics. To deactivate, set browser.gatherUsageStats to False.\n",
            "\u001b[0m\n",
            "\u001b[0m\n",
            "\u001b[34m\u001b[1m  You can now view your Streamlit app in your browser.\u001b[0m\n",
            "\u001b[0m\n",
            "\u001b[34m  Network URL: \u001b[0m\u001b[1mhttp://172.28.0.12:8501\u001b[0m\n",
            "\u001b[34m  External URL: \u001b[0m\u001b[1mhttp://35.245.35.166:8501\u001b[0m\n",
            "\u001b[0m\n"
          ]
        }
      ],
      "source": [
        "#!streamlit run /usr/local/lib/python3.10/dist-packages/colab_kernel_launcher.py"
      ]
    },
    {
      "cell_type": "markdown",
      "metadata": {
        "id": "cYHRbesbGTM5"
      },
      "source": [
        "## 2. Testing"
      ]
    },
    {
      "cell_type": "markdown",
      "metadata": {
        "id": "7w4fX4kklNOG"
      },
      "source": [
        "Helper file from huggingface to help in caching assets - https://huggingface.co/docs/huggingface_hub/v0.21.3/guides/manage-cache#limitations"
      ]
    },
    {
      "cell_type": "code",
      "execution_count": null,
      "metadata": {
        "id": "UydIIUWLGX7E"
      },
      "outputs": [],
      "source": [
        "from huggingface_hub import cached_assets_path\n",
        "\n",
        "assets_path = cached_assets_path(library_name=\"datasets\", namespace=\"SQuAD\", subfolder=\"download\")\n",
        "something_path = assets_path / \"something.json\""
      ]
    },
    {
      "cell_type": "markdown",
      "metadata": {
        "id": "uOUV8Dtxlcis"
      },
      "source": [
        "The following text was copied from the Hugging Face site."
      ]
    },
    {
      "cell_type": "code",
      "execution_count": null,
      "metadata": {
        "id": "wrM3jbZD2v0u"
      },
      "outputs": [],
      "source": [
        "text='''Hugging Face: Revolutionizing Natural Language Processing Introduction In the rapidly evolving field of Natural Language Processing (NLP), Hugging Face has emerged as a prominent and innovative force. This article will explore the story and significance of Hugging Face, a company that has made remarkable contributions to NLP and AI as a whole. From its inception to its role in democratizing AI, Hugging Face has left an indelible mark on the industry.  The Birth of Hugging Face Hugging Face was founded in 2016 by Clément Delangue, Julien Chaumond, and Thomas Wolf. The name Hugging Face was chosen to reflect the companys mission of making AI models more accessible and friendly to humans, much like a comforting hug. Initially, they began as a chatbot company but later shifted their focus to NLP, driven by their belief in the transformative potential of this technology. Transformative Innovations Hugging Face is best known for its open-source contributions, particularly the Transformers library. This library has become the de facto standard for NLP and enables researchers, developers, and organizations to easily access and utilize state-of-the-art pre-trained language models, such as BERT, GPT-3, and more. These models have countless applications, from chatbots and virtual assistants to language translation and sentiment analysis.'''"
      ]
    },
    {
      "cell_type": "markdown",
      "metadata": {
        "id": "Z0fkmTxVlqcE"
      },
      "source": [
        "Create a list of models to test - this is just a list of random summarizer models, which could be replaced with a more carefully selected list of candidates."
      ]
    },
    {
      "cell_type": "code",
      "execution_count": null,
      "metadata": {
        "id": "YCr4-q-G3FaZ"
      },
      "outputs": [],
      "source": [
        "models=['Falconsai/text_summarization','Rahmat82/t5-small-finetuned-summarization-xsum','philschmid/flan-t5-base-samsum']"
      ]
    },
    {
      "cell_type": "markdown",
      "metadata": {
        "id": "3uyCBVs0lvT9"
      },
      "source": [
        "Loop through the models - the output requires more refining, extracing the values from the dictionary, etc."
      ]
    },
    {
      "cell_type": "code",
      "execution_count": null,
      "metadata": {
        "id": "4ZvAAKAy3SWX"
      },
      "outputs": [],
      "source": [
        "for model in models:\n",
        "    pipe = pipeline('summarization',model)\n",
        "    summary=pipe(text)\n",
        "    print(f\"The {model} model returned the following summary - {summary[0]['summary_text']}\")"
      ]
    }
  ],
  "metadata": {
    "colab": {
      "provenance": [],
      "toc_visible": true,
      "include_colab_link": true
    },
    "kernelspec": {
      "display_name": "Python 3",
      "name": "python3"
    },
    "language_info": {
      "name": "python"
    }
  },
  "nbformat": 4,
  "nbformat_minor": 0
}